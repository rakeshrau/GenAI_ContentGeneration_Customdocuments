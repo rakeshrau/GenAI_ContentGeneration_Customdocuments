{
 "cells": [
  {
   "cell_type": "markdown",
   "metadata": {
    "application/vnd.databricks.v1+cell": {
     "cellMetadata": {
      "byteLimit": 2048000,
      "rowLimit": 10000
     },
     "inputWidgets": {},
     "nuid": "7ee38470-304a-40c7-9f0a-3159bacbe38f",
     "showTitle": false,
     "title": ""
    }
   },
   "source": [
    "## Install required package"
   ]
  },
  {
   "cell_type": "code",
   "execution_count": 0,
   "metadata": {
    "application/vnd.databricks.v1+cell": {
     "cellMetadata": {
      "byteLimit": 2048000,
      "rowLimit": 10000
     },
     "inputWidgets": {},
     "nuid": "47714349-6ff7-4897-8852-dd26822d9d5a",
     "showTitle": false,
     "title": ""
    }
   },
   "outputs": [
    {
     "output_type": "stream",
     "name": "stdout",
     "output_type": "stream",
     "text": [
      "\u001B[43mNote: you may need to restart the kernel using dbutils.library.restartPython() to use updated packages.\u001B[0m\nCollecting langchain==0.0.354\n  Downloading langchain-0.0.354-py3-none-any.whl (803 kB)\n     ━━━━━━━━━━━━━━━━━━━━━━━━━━━━━━━━━━━━━━ 803.3/803.3 kB 10.4 MB/s eta 0:00:00\nRequirement already satisfied: SQLAlchemy<3,>=1.4 in /databricks/python3/lib/python3.10/site-packages (from langchain==0.0.354) (1.4.39)\nRequirement already satisfied: async-timeout<5.0.0,>=4.0.0 in /databricks/python3/lib/python3.10/site-packages (from langchain==0.0.354) (4.0.3)\nCollecting langchain-core<0.2,>=0.1.5\n  Downloading langchain_core-0.1.27-py3-none-any.whl (250 kB)\n     ━━━━━━━━━━━━━━━━━━━━━━━━━━━━━━━━━━━━━━ 250.8/250.8 kB 14.7 MB/s eta 0:00:00\nRequirement already satisfied: langsmith<0.1.0,>=0.0.77 in /databricks/python3/lib/python3.10/site-packages (from langchain==0.0.354) (0.0.79)\nCollecting langchain-community<0.1,>=0.0.8\n  Downloading langchain_community-0.0.24-py3-none-any.whl (1.7 MB)\n     ━━━━━━━━━━━━━━━━━━━━━━━━━━━━━━━━━━━━━━━━ 1.7/1.7 MB 3.6 MB/s eta 0:00:00\nRequirement already satisfied: tenacity<9.0.0,>=8.1.0 in /databricks/python3/lib/python3.10/site-packages (from langchain==0.0.354) (8.1.0)\nRequirement already satisfied: PyYAML>=5.3 in /databricks/python3/lib/python3.10/site-packages (from langchain==0.0.354) (6.0)\nRequirement already satisfied: numpy<2,>=1 in /databricks/python3/lib/python3.10/site-packages (from langchain==0.0.354) (1.23.5)\nRequirement already satisfied: dataclasses-json<0.7,>=0.5.7 in /databricks/python3/lib/python3.10/site-packages (from langchain==0.0.354) (0.6.3)\nRequirement already satisfied: pydantic<3,>=1 in /databricks/python3/lib/python3.10/site-packages (from langchain==0.0.354) (1.10.6)\nRequirement already satisfied: jsonpatch<2.0,>=1.33 in /databricks/python3/lib/python3.10/site-packages (from langchain==0.0.354) (1.33)\nRequirement already satisfied: requests<3,>=2 in /databricks/python3/lib/python3.10/site-packages (from langchain==0.0.354) (2.28.1)\nRequirement already satisfied: aiohttp<4.0.0,>=3.8.3 in /databricks/python3/lib/python3.10/site-packages (from langchain==0.0.354) (3.9.1)\nRequirement already satisfied: aiosignal>=1.1.2 in /databricks/python3/lib/python3.10/site-packages (from aiohttp<4.0.0,>=3.8.3->langchain==0.0.354) (1.3.1)\nRequirement already satisfied: yarl<2.0,>=1.0 in /databricks/python3/lib/python3.10/site-packages (from aiohttp<4.0.0,>=3.8.3->langchain==0.0.354) (1.9.4)\nRequirement already satisfied: multidict<7.0,>=4.5 in /databricks/python3/lib/python3.10/site-packages (from aiohttp<4.0.0,>=3.8.3->langchain==0.0.354) (6.0.4)\nRequirement already satisfied: attrs>=17.3.0 in /databricks/python3/lib/python3.10/site-packages (from aiohttp<4.0.0,>=3.8.3->langchain==0.0.354) (22.1.0)\nRequirement already satisfied: frozenlist>=1.1.1 in /databricks/python3/lib/python3.10/site-packages (from aiohttp<4.0.0,>=3.8.3->langchain==0.0.354) (1.4.1)\nRequirement already satisfied: marshmallow<4.0.0,>=3.18.0 in /databricks/python3/lib/python3.10/site-packages (from dataclasses-json<0.7,>=0.5.7->langchain==0.0.354) (3.20.2)\nRequirement already satisfied: typing-inspect<1,>=0.4.0 in /databricks/python3/lib/python3.10/site-packages (from dataclasses-json<0.7,>=0.5.7->langchain==0.0.354) (0.9.0)\nRequirement already satisfied: jsonpointer>=1.9 in /databricks/python3/lib/python3.10/site-packages (from jsonpatch<2.0,>=1.33->langchain==0.0.354) (2.4)\n  Downloading langchain_community-0.0.23-py3-none-any.whl (1.7 MB)\n     ━━━━━━━━━━━━━━━━━━━━━━━━━━━━━━━━━━━━━━━━ 1.7/1.7 MB 31.6 MB/s eta 0:00:00\n  Downloading langchain_community-0.0.22-py3-none-any.whl (1.7 MB)\n     ━━━━━━━━━━━━━━━━━━━━━━━━━━━━━━━━━━━━━━━━ 1.7/1.7 MB 39.7 MB/s eta 0:00:00\n  Downloading langchain_community-0.0.21-py3-none-any.whl (1.7 MB)\n     ━━━━━━━━━━━━━━━━━━━━━━━━━━━━━━━━━━━━━━━━ 1.7/1.7 MB 46.2 MB/s eta 0:00:00\n  Downloading langchain_community-0.0.20-py3-none-any.whl (1.7 MB)\n     ━━━━━━━━━━━━━━━━━━━━━━━━━━━━━━━━━━━━━━━━ 1.7/1.7 MB 40.7 MB/s eta 0:00:00\nCollecting langsmith<0.1.0,>=0.0.77\n  Downloading langsmith-0.0.92-py3-none-any.whl (56 kB)\n     ━━━━━━━━━━━━━━━━━━━━━━━━━━━━━━━━━━━━━━━━ 56.5/56.5 kB 6.6 MB/s eta 0:00:00\nRequirement already satisfied: anyio<5,>=3 in /databricks/python3/lib/python3.10/site-packages (from langchain-core<0.2,>=0.1.5->langchain==0.0.354) (3.5.0)\nRequirement already satisfied: packaging<24.0,>=23.2 in /databricks/python3/lib/python3.10/site-packages (from langchain-core<0.2,>=0.1.5->langchain==0.0.354) (23.2)\nCollecting langchain-core<0.2,>=0.1.5\n  Downloading langchain_core-0.1.26-py3-none-any.whl (246 kB)\n     ━━━━━━━━━━━━━━━━━━━━━━━━━━━━━━━━━━━━━━ 246.4/246.4 kB 26.0 MB/s eta 0:00:00\n  Downloading langchain_core-0.1.25-py3-none-any.whl (242 kB)\n     ━━━━━━━━━━━━━━━━━━━━━━━━━━━━━━━━━━━━━━ 242.1/242.1 kB 25.9 MB/s eta 0:00:00\n  Downloading langchain_core-0.1.24-py3-none-any.whl (241 kB)\n     ━━━━━━━━━━━━━━━━━━━━━━━━━━━━━━━━━━━━━━ 241.3/241.3 kB 20.2 MB/s eta 0:00:00\n  Downloading langchain_core-0.1.23-py3-none-any.whl (241 kB)\n     ━━━━━━━━━━━━━━━━━━━━━━━━━━━━━━━━━━━━━━━ 241.2/241.2 kB 9.1 MB/s eta 0:00:00\nCollecting langsmith<0.1.0,>=0.0.77\n  Downloading langsmith-0.0.87-py3-none-any.whl (55 kB)\n     ━━━━━━━━━━━━━━━━━━━━━━━━━━━━━━━━━━━━━━━━ 55.4/55.4 kB 3.1 MB/s eta 0:00:00\nRequirement already satisfied: typing-extensions>=4.2.0 in /databricks/python3/lib/python3.10/site-packages (from pydantic<3,>=1->langchain==0.0.354) (4.4.0)\nRequirement already satisfied: certifi>=2017.4.17 in /databricks/python3/lib/python3.10/site-packages (from requests<3,>=2->langchain==0.0.354) (2022.12.7)\nRequirement already satisfied: charset-normalizer<3,>=2 in /databricks/python3/lib/python3.10/site-packages (from requests<3,>=2->langchain==0.0.354) (2.0.4)\nRequirement already satisfied: urllib3<1.27,>=1.21.1 in /databricks/python3/lib/python3.10/site-packages (from requests<3,>=2->langchain==0.0.354) (1.26.14)\nRequirement already satisfied: idna<4,>=2.5 in /databricks/python3/lib/python3.10/site-packages (from requests<3,>=2->langchain==0.0.354) (3.4)\nRequirement already satisfied: greenlet!=0.4.17 in /databricks/python3/lib/python3.10/site-packages (from SQLAlchemy<3,>=1.4->langchain==0.0.354) (2.0.1)\nRequirement already satisfied: sniffio>=1.1 in /databricks/python3/lib/python3.10/site-packages (from anyio<5,>=3->langchain-core<0.2,>=0.1.5->langchain==0.0.354) (1.2.0)\nRequirement already satisfied: mypy-extensions>=0.3.0 in /databricks/python3/lib/python3.10/site-packages (from typing-inspect<1,>=0.4.0->dataclasses-json<0.7,>=0.5.7->langchain==0.0.354) (0.4.3)\nInstalling collected packages: langsmith, langchain-core, langchain-community, langchain\n  Attempting uninstall: langsmith\n    Found existing installation: langsmith 0.0.79\n    Not uninstalling langsmith at /databricks/python3/lib/python3.10/site-packages, outside environment /local_disk0/.ephemeral_nfs/envs/pythonEnv-35df65e6-1d01-4856-8b4d-bbb8de7a9460\n    Can't uninstall 'langsmith'. No files were found to uninstall.\n  Attempting uninstall: langchain-core\n    Found existing installation: langchain-core 0.0.13\n    Not uninstalling langchain-core at /databricks/python3/lib/python3.10/site-packages, outside environment /local_disk0/.ephemeral_nfs/envs/pythonEnv-35df65e6-1d01-4856-8b4d-bbb8de7a9460\n    Can't uninstall 'langchain-core'. No files were found to uninstall.\n  Attempting uninstall: langchain\n    Found existing installation: langchain 0.0.348\n    Not uninstalling langchain at /databricks/python3/lib/python3.10/site-packages, outside environment /local_disk0/.ephemeral_nfs/envs/pythonEnv-35df65e6-1d01-4856-8b4d-bbb8de7a9460\n    Can't uninstall 'langchain'. No files were found to uninstall.\nSuccessfully installed langchain-0.0.354 langchain-community-0.0.20 langchain-core-0.1.23 langsmith-0.0.87\n\u001B[43mNote: you may need to restart the kernel using dbutils.library.restartPython() to use updated packages.\u001B[0m\n\u001B[43mNote: you may need to restart the kernel using dbutils.library.restartPython() to use updated packages.\u001B[0m\nCollecting openai==1.3.6\n  Downloading openai-1.3.6-py3-none-any.whl (220 kB)\n     ━━━━━━━━━━━━━━━━━━━━━━━━━━━━━━━━━━━━━━━ 220.9/220.9 kB 5.8 MB/s eta 0:00:00\nCollecting typing-extensions<5,>=4.5\n  Downloading typing_extensions-4.10.0-py3-none-any.whl (33 kB)\nRequirement already satisfied: anyio<4,>=3.5.0 in /databricks/python3/lib/python3.10/site-packages (from openai==1.3.6) (3.5.0)\nRequirement already satisfied: pydantic<3,>=1.9.0 in /databricks/python3/lib/python3.10/site-packages (from openai==1.3.6) (1.10.6)\nCollecting httpx<1,>=0.23.0\n  Downloading httpx-0.27.0-py3-none-any.whl (75 kB)\n     ━━━━━━━━━━━━━━━━━━━━━━━━━━━━━━━━━━━━━━━━ 75.6/75.6 kB 10.3 MB/s eta 0:00:00\nRequirement already satisfied: sniffio in /databricks/python3/lib/python3.10/site-packages (from openai==1.3.6) (1.2.0)\nRequirement already satisfied: distro<2,>=1.7.0 in /usr/lib/python3/dist-packages (from openai==1.3.6) (1.7.0)\nRequirement already satisfied: tqdm>4 in /databricks/python3/lib/python3.10/site-packages (from openai==1.3.6) (4.64.1)\nRequirement already satisfied: idna>=2.8 in /databricks/python3/lib/python3.10/site-packages (from anyio<4,>=3.5.0->openai==1.3.6) (3.4)\nRequirement already satisfied: certifi in /databricks/python3/lib/python3.10/site-packages (from httpx<1,>=0.23.0->openai==1.3.6) (2022.12.7)\nCollecting httpcore==1.*\n  Downloading httpcore-1.0.4-py3-none-any.whl (77 kB)\n     ━━━━━━━━━━━━━━━━━━━━━━━━━━━━━━━━━━━━━━━━ 77.8/77.8 kB 9.1 MB/s eta 0:00:00\nCollecting h11<0.15,>=0.13\n  Downloading h11-0.14.0-py3-none-any.whl (58 kB)\n     ━━━━━━━━━━━━━━━━━━━━━━━━━━━━━━━━━━━━━━━━ 58.3/58.3 kB 6.9 MB/s eta 0:00:00\nInstalling collected packages: typing-extensions, h11, httpcore, httpx, openai\n  Attempting uninstall: typing-extensions\n    Found existing installation: typing_extensions 4.4.0\n    Not uninstalling typing-extensions at /databricks/python3/lib/python3.10/site-packages, outside environment /local_disk0/.ephemeral_nfs/envs/pythonEnv-35df65e6-1d01-4856-8b4d-bbb8de7a9460\n    Can't uninstall 'typing_extensions'. No files were found to uninstall.\n  Attempting uninstall: openai\n    Found existing installation: openai 0.28.1\n    Not uninstalling openai at /databricks/python3/lib/python3.10/site-packages, outside environment /local_disk0/.ephemeral_nfs/envs/pythonEnv-35df65e6-1d01-4856-8b4d-bbb8de7a9460\n    Can't uninstall 'openai'. No files were found to uninstall.\nSuccessfully installed h11-0.14.0 httpcore-1.0.4 httpx-0.27.0 openai-1.3.6 typing-extensions-4.10.0\n\u001B[43mNote: you may need to restart the kernel using dbutils.library.restartPython() to use updated packages.\u001B[0m\n\u001B[43mNote: you may need to restart the kernel using dbutils.library.restartPython() to use updated packages.\u001B[0m\nCollecting PyPDF2\n  Downloading pypdf2-3.0.1-py3-none-any.whl (232 kB)\n     ━━━━━━━━━━━━━━━━━━━━━━━━━━━━━━━━━━━━━━━ 232.6/232.6 kB 5.2 MB/s eta 0:00:00\nInstalling collected packages: PyPDF2\nSuccessfully installed PyPDF2-3.0.1\n\u001B[43mNote: you may need to restart the kernel using dbutils.library.restartPython() to use updated packages.\u001B[0m\n\u001B[43mNote: you may need to restart the kernel using dbutils.library.restartPython() to use updated packages.\u001B[0m\nCollecting faiss-cpu==1.7.4\n  Downloading faiss_cpu-1.7.4-cp310-cp310-manylinux_2_17_x86_64.manylinux2014_x86_64.whl (17.6 MB)\n     ━━━━━━━━━━━━━━━━━━━━━━━━━━━━━━━━━━━━━━━━ 17.6/17.6 MB 48.9 MB/s eta 0:00:00\nInstalling collected packages: faiss-cpu\nSuccessfully installed faiss-cpu-1.7.4\n\u001B[43mNote: you may need to restart the kernel using dbutils.library.restartPython() to use updated packages.\u001B[0m\n\u001B[43mNote: you may need to restart the kernel using dbutils.library.restartPython() to use updated packages.\u001B[0m\nRequirement already satisfied: tiktoken in /databricks/python3/lib/python3.10/site-packages (0.5.2)\nRequirement already satisfied: regex>=2022.1.18 in /databricks/python3/lib/python3.10/site-packages (from tiktoken) (2022.7.9)\nRequirement already satisfied: requests>=2.26.0 in /databricks/python3/lib/python3.10/site-packages (from tiktoken) (2.28.1)\nRequirement already satisfied: idna<4,>=2.5 in /databricks/python3/lib/python3.10/site-packages (from requests>=2.26.0->tiktoken) (3.4)\nRequirement already satisfied: urllib3<1.27,>=1.21.1 in /databricks/python3/lib/python3.10/site-packages (from requests>=2.26.0->tiktoken) (1.26.14)\nRequirement already satisfied: charset-normalizer<3,>=2 in /databricks/python3/lib/python3.10/site-packages (from requests>=2.26.0->tiktoken) (2.0.4)\nRequirement already satisfied: certifi>=2017.4.17 in /databricks/python3/lib/python3.10/site-packages (from requests>=2.26.0->tiktoken) (2022.12.7)\n\u001B[43mNote: you may need to restart the kernel using dbutils.library.restartPython() to use updated packages.\u001B[0m\n\u001B[43mNote: you may need to restart the kernel using dbutils.library.restartPython() to use updated packages.\u001B[0m\nCollecting pypdf\n  Downloading pypdf-4.0.2-py3-none-any.whl (283 kB)\n     ━━━━━━━━━━━━━━━━━━━━━━━━━━━━━━━━━━━━━━━ 284.0/284.0 kB 4.7 MB/s eta 0:00:00\nCollecting panel\n  Downloading panel-1.3.8-py2.py3-none-any.whl (20.8 MB)\n     ━━━━━━━━━━━━━━━━━━━━━━━━━━━━━━━━━━━━━━━━ 20.8/20.8 MB 39.0 MB/s eta 0:00:00\nRequirement already satisfied: notebook in /databricks/python3/lib/python3.10/site-packages (6.5.2)\nRequirement already satisfied: tqdm>=4.48.0 in /databricks/python3/lib/python3.10/site-packages (from panel) (4.64.1)\nCollecting pyviz-comms>=2.0.0\n  Downloading pyviz_comms-3.0.1-py3-none-any.whl (82 kB)\n     ━━━━━━━━━━━━━━━━━━━━━━━━━━━━━━━━━━━━━━━━ 82.8/82.8 kB 10.9 MB/s eta 0:00:00\nCollecting markdown-it-py\n  Downloading markdown_it_py-3.0.0-py3-none-any.whl (87 kB)\n     ━━━━━━━━━━━━━━━━━━━━━━━━━━━━━━━━━━━━━━━━ 87.5/87.5 kB 8.5 MB/s eta 0:00:00\nCollecting param<3.0,>=2.0.0\n  Downloading param-2.0.2-py3-none-any.whl (113 kB)\n     ━━━━━━━━━━━━━━━━━━━━━━━━━━━━━━━━━━━━━━ 113.6/113.6 kB 13.3 MB/s eta 0:00:00\nCollecting xyzservices>=2021.09.1\n  Downloading xyzservices-2023.10.1-py3-none-any.whl (56 kB)\n     ━━━━━━━━━━━━━━━━━━━━━━━━━━━━━━━━━━━━━━━━ 56.3/56.3 kB 6.1 MB/s eta 0:00:00\nRequirement already satisfied: bleach in /databricks/python3/lib/python3.10/site-packages (from panel) (4.1.0)\nRequirement already satisfied: pandas>=1.2 in /databricks/python3/lib/python3.10/site-packages (from panel) (1.5.3)\nCollecting bokeh<3.4.0,>=3.2.0\n  Downloading bokeh-3.3.4-py3-none-any.whl (6.8 MB)\n     ━━━━━━━━━━━━━━━━━━━━━━━━━━━━━━━━━━━━━━━━ 6.8/6.8 MB 76.9 MB/s eta 0:00:00\nRequirement already satisfied: typing-extensions in /local_disk0/.ephemeral_nfs/envs/pythonEnv-35df65e6-1d01-4856-8b4d-bbb8de7a9460/lib/python3.10/site-packages (from panel) (4.10.0)\nCollecting linkify-it-py\n  Downloading linkify_it_py-2.0.3-py3-none-any.whl (19 kB)\nCollecting mdit-py-plugins\n  Downloading mdit_py_plugins-0.4.0-py3-none-any.whl (54 kB)\n     ━━━━━━━━━━━━━━━━━━━━━━━━━━━━━━━━━━━━━━━━ 54.1/54.1 kB 3.2 MB/s eta 0:00:00\nRequirement already satisfied: markdown in /databricks/python3/lib/python3.10/site-packages (from panel) (3.4.1)\nRequirement already satisfied: requests in /databricks/python3/lib/python3.10/site-packages (from panel) (2.28.1)\nRequirement already satisfied: jupyter-core>=4.6.1 in /databricks/python3/lib/python3.10/site-packages (from notebook) (5.2.0)\nRequirement already satisfied: traitlets>=4.2.1 in /databricks/python3/lib/python3.10/site-packages (from notebook) (5.7.1)\nRequirement already satisfied: argon2-cffi in /databricks/python3/lib/python3.10/site-packages (from notebook) (21.3.0)\nRequirement already satisfied: tornado>=6.1 in /databricks/python3/lib/python3.10/site-packages (from notebook) (6.1)\nRequirement already satisfied: ipykernel in /databricks/python3/lib/python3.10/site-packages (from notebook) (6.25.0)\nRequirement already satisfied: prometheus-client in /databricks/python3/lib/python3.10/site-packages (from notebook) (0.14.1)\nRequirement already satisfied: pyzmq>=17 in /databricks/python3/lib/python3.10/site-packages (from notebook) (23.2.0)\nRequirement already satisfied: Send2Trash>=1.8.0 in /databricks/python3/lib/python3.10/site-packages (from notebook) (1.8.0)\nRequirement already satisfied: nbformat in /databricks/python3/lib/python3.10/site-packages (from notebook) (5.7.0)\nRequirement already satisfied: ipython-genutils in /databricks/python3/lib/python3.10/site-packages (from notebook) (0.2.0)\nRequirement already satisfied: jupyter-client>=5.3.4 in /databricks/python3/lib/python3.10/site-packages (from notebook) (7.3.4)\nRequirement already satisfied: nest-asyncio>=1.5 in /databricks/python3/lib/python3.10/site-packages (from notebook) (1.5.6)\nRequirement already satisfied: nbconvert>=5 in /databricks/python3/lib/python3.10/site-packages (from notebook) (6.5.4)\nRequirement already satisfied: terminado>=0.8.3 in /databricks/python3/lib/python3.10/site-packages (from notebook) (0.17.1)\nRequirement already satisfied: jinja2 in /databricks/python3/lib/python3.10/site-packages (from notebook) (3.1.2)\nRequirement already satisfied: nbclassic>=0.4.7 in /databricks/python3/lib/python3.10/site-packages (from notebook) (0.5.2)\nRequirement already satisfied: numpy>=1.16 in /databricks/python3/lib/python3.10/site-packages (from bokeh<3.4.0,>=3.2.0->panel) (1.23.5)\nRequirement already satisfied: packaging>=16.8 in /databricks/python3/lib/python3.10/site-packages (from bokeh<3.4.0,>=3.2.0->panel) (23.2)\nRequirement already satisfied: pillow>=7.1.0 in /databricks/python3/lib/python3.10/site-packages (from bokeh<3.4.0,>=3.2.0->panel) (9.4.0)\nRequirement already satisfied: contourpy>=1 in /databricks/python3/lib/python3.10/site-packages (from bokeh<3.4.0,>=3.2.0->panel) (1.0.5)\nRequirement already satisfied: PyYAML>=3.10 in /databricks/python3/lib/python3.10/site-packages (from bokeh<3.4.0,>=3.2.0->panel) (6.0)\nRequirement already satisfied: MarkupSafe>=2.0 in /databricks/python3/lib/python3.10/site-packages (from jinja2->notebook) (2.1.1)\nRequirement already satisfied: python-dateutil>=2.8.2 in /databricks/python3/lib/python3.10/site-packages (from jupyter-client>=5.3.4->notebook) (2.8.2)\nRequirement already satisfied: entrypoints in /databricks/python3/lib/python3.10/site-packages (from jupyter-client>=5.3.4->notebook) (0.4)\nRequirement already satisfied: platformdirs>=2.5 in /databricks/python3/lib/python3.10/site-packages (from jupyter-core>=4.6.1->notebook) (2.5.2)\nRequirement already satisfied: notebook-shim>=0.1.0 in /databricks/python3/lib/python3.10/site-packages (from nbclassic>=0.4.7->notebook) (0.2.2)\nRequirement already satisfied: jupyter-server>=1.8 in /databricks/python3/lib/python3.10/site-packages (from nbclassic>=0.4.7->notebook) (1.23.4)\nRequirement already satisfied: beautifulsoup4 in /databricks/python3/lib/python3.10/site-packages (from nbconvert>=5->notebook) (4.11.1)\nRequirement already satisfied: mistune<2,>=0.8.1 in /databricks/python3/lib/python3.10/site-packages (from nbconvert>=5->notebook) (0.8.4)\nRequirement already satisfied: pandocfilters>=1.4.1 in /databricks/python3/lib/python3.10/site-packages (from nbconvert>=5->notebook) (1.5.0)\nRequirement already satisfied: jupyterlab-pygments in /databricks/python3/lib/python3.10/site-packages (from nbconvert>=5->notebook) (0.1.2)\nRequirement already satisfied: pygments>=2.4.1 in /databricks/python3/lib/python3.10/site-packages (from nbconvert>=5->notebook) (2.11.2)\nRequirement already satisfied: lxml in /databricks/python3/lib/python3.10/site-packages (from nbconvert>=5->notebook) (4.9.1)\nRequirement already satisfied: nbclient>=0.5.0 in /databricks/python3/lib/python3.10/site-packages (from nbconvert>=5->notebook) (0.5.13)\nRequirement already satisfied: tinycss2 in /databricks/python3/lib/python3.10/site-packages (from nbconvert>=5->notebook) (1.2.1)\nRequirement already satisfied: defusedxml in /databricks/python3/lib/python3.10/site-packages (from nbconvert>=5->notebook) (0.7.1)\nRequirement already satisfied: jsonschema>=2.6 in /databricks/python3/lib/python3.10/site-packages (from nbformat->notebook) (4.17.3)\nRequirement already satisfied: fastjsonschema in /databricks/python3/lib/python3.10/site-packages (from nbformat->notebook) (2.19.1)\nRequirement already satisfied: pytz>=2020.1 in /databricks/python3/lib/python3.10/site-packages (from pandas>=1.2->panel) (2022.7)\nRequirement already satisfied: ptyprocess in /databricks/python3/lib/python3.10/site-packages (from terminado>=0.8.3->notebook) (0.7.0)\nRequirement already satisfied: argon2-cffi-bindings in /databricks/python3/lib/python3.10/site-packages (from argon2-cffi->notebook) (21.2.0)\nRequirement already satisfied: webencodings in /databricks/python3/lib/python3.10/site-packages (from bleach->panel) (0.5.1)\nRequirement already satisfied: six>=1.9.0 in /usr/lib/python3/dist-packages (from bleach->panel) (1.16.0)\nRequirement already satisfied: debugpy>=1.6.5 in /databricks/python3/lib/python3.10/site-packages (from ipykernel->notebook) (1.6.7)\nRequirement already satisfied: psutil in /databricks/python3/lib/python3.10/site-packages (from ipykernel->notebook) (5.9.0)\nRequirement already satisfied: ipython>=7.23.1 in /databricks/python3/lib/python3.10/site-packages (from ipykernel->notebook) (8.14.0)\nRequirement already satisfied: comm>=0.1.1 in /databricks/python3/lib/python3.10/site-packages (from ipykernel->notebook) (0.1.2)\nRequirement already satisfied: matplotlib-inline>=0.1 in /databricks/python3/lib/python3.10/site-packages (from ipykernel->notebook) (0.1.6)\nCollecting uc-micro-py\n  Downloading uc_micro_py-1.0.3-py3-none-any.whl (6.2 kB)\nCollecting mdurl~=0.1\n  Downloading mdurl-0.1.2-py3-none-any.whl (10.0 kB)\nRequirement already satisfied: certifi>=2017.4.17 in /databricks/python3/lib/python3.10/site-packages (from requests->panel) (2022.12.7)\nRequirement already satisfied: idna<4,>=2.5 in /databricks/python3/lib/python3.10/site-packages (from requests->panel) (3.4)\nRequirement already satisfied: charset-normalizer<3,>=2 in /databricks/python3/lib/python3.10/site-packages (from requests->panel) (2.0.4)\nRequirement already satisfied: urllib3<1.27,>=1.21.1 in /databricks/python3/lib/python3.10/site-packages (from requests->panel) (1.26.14)\nRequirement already satisfied: stack-data in /databricks/python3/lib/python3.10/site-packages (from ipython>=7.23.1->ipykernel->notebook) (0.2.0)\nRequirement already satisfied: backcall in /databricks/python3/lib/python3.10/site-packages (from ipython>=7.23.1->ipykernel->notebook) (0.2.0)\nRequirement already satisfied: decorator in /databricks/python3/lib/python3.10/site-packages (from ipython>=7.23.1->ipykernel->notebook) (5.1.1)\nRequirement already satisfied: jedi>=0.16 in /databricks/python3/lib/python3.10/site-packages (from ipython>=7.23.1->ipykernel->notebook) (0.18.1)\nRequirement already satisfied: pexpect>4.3 in /databricks/python3/lib/python3.10/site-packages (from ipython>=7.23.1->ipykernel->notebook) (4.8.0)\nRequirement already satisfied: pickleshare in /databricks/python3/lib/python3.10/site-packages (from ipython>=7.23.1->ipykernel->notebook) (0.7.5)\nRequirement already satisfied: prompt-toolkit!=3.0.37,<3.1.0,>=3.0.30 in /databricks/python3/lib/python3.10/site-packages (from ipython>=7.23.1->ipykernel->notebook) (3.0.36)\nRequirement already satisfied: attrs>=17.4.0 in /databricks/python3/lib/python3.10/site-packages (from jsonschema>=2.6->nbformat->notebook) (22.1.0)\nRequirement already satisfied: pyrsistent!=0.17.0,!=0.17.1,!=0.17.2,>=0.14.0 in /databricks/python3/lib/python3.10/site-packages (from jsonschema>=2.6->nbformat->notebook) (0.18.0)\nRequirement already satisfied: websocket-client in /databricks/python3/lib/python3.10/site-packages (from jupyter-server>=1.8->nbclassic>=0.4.7->notebook) (0.58.0)\nRequirement already satisfied: anyio<4,>=3.1.0 in /databricks/python3/lib/python3.10/site-packages (from jupyter-server>=1.8->nbclassic>=0.4.7->notebook) (3.5.0)\nRequirement already satisfied: cffi>=1.0.1 in /databricks/python3/lib/python3.10/site-packages (from argon2-cffi-bindings->argon2-cffi->notebook) (1.15.1)\nRequirement already satisfied: soupsieve>1.2 in /databricks/python3/lib/python3.10/site-packages (from beautifulsoup4->nbconvert>=5->notebook) (2.3.2.post1)\nRequirement already satisfied: sniffio>=1.1 in /databricks/python3/lib/python3.10/site-packages (from anyio<4,>=3.1.0->jupyter-server>=1.8->nbclassic>=0.4.7->notebook) (1.2.0)\nRequirement already satisfied: pycparser in /databricks/python3/lib/python3.10/site-packages (from cffi>=1.0.1->argon2-cffi-bindings->argon2-cffi->notebook) (2.21)\nRequirement already satisfied: parso<0.9.0,>=0.8.0 in /databricks/python3/lib/python3.10/site-packages (from jedi>=0.16->ipython>=7.23.1->ipykernel->notebook) (0.8.3)\nRequirement already satisfied: wcwidth in /databricks/python3/lib/python3.10/site-packages (from prompt-toolkit!=3.0.37,<3.1.0,>=3.0.30->ipython>=7.23.1->ipykernel->notebook) (0.2.5)\nRequirement already satisfied: asttokens in /databricks/python3/lib/python3.10/site-packages (from stack-data->ipython>=7.23.1->ipykernel->notebook) (2.0\n\n*** WARNING: max output size exceeded, skipping output. ***\n\nel->notebook) (0.8.3)\nRequirement already satisfied: pure-eval in /databricks/python3/lib/python3.10/site-packages (from stack-data->ipython>=7.23.1->ipykernel->notebook) (0.2.2)\nInstalling collected packages: xyzservices, uc-micro-py, pypdf, param, mdurl, pyviz-comms, markdown-it-py, linkify-it-py, mdit-py-plugins, bokeh, panel\nSuccessfully installed bokeh-3.3.4 linkify-it-py-2.0.3 markdown-it-py-3.0.0 mdit-py-plugins-0.4.0 mdurl-0.1.2 panel-1.3.8 param-2.0.2 pypdf-4.0.2 pyviz-comms-3.0.1 uc-micro-py-1.0.3 xyzservices-2023.10.1\n\u001B[43mNote: you may need to restart the kernel using dbutils.library.restartPython() to use updated packages.\u001B[0m\n\u001B[43mNote: you may need to restart the kernel using dbutils.library.restartPython() to use updated packages.\u001B[0m\nCollecting unstructured\n  Downloading unstructured-0.12.4-py3-none-any.whl (1.8 MB)\n     ━━━━━━━━━━━━━━━━━━━━━━━━━━━━━━━━━━━━━━━━ 1.8/1.8 MB 11.2 MB/s eta 0:00:00\nRequirement already satisfied: tabulate in /databricks/python3/lib/python3.10/site-packages (from unstructured) (0.8.10)\nRequirement already satisfied: typing-extensions in /local_disk0/.ephemeral_nfs/envs/pythonEnv-35df65e6-1d01-4856-8b4d-bbb8de7a9460/lib/python3.10/site-packages (from unstructured) (4.10.0)\nRequirement already satisfied: dataclasses-json in /databricks/python3/lib/python3.10/site-packages (from unstructured) (0.6.3)\nRequirement already satisfied: requests in /databricks/python3/lib/python3.10/site-packages (from unstructured) (2.28.1)\nRequirement already satisfied: beautifulsoup4 in /databricks/python3/lib/python3.10/site-packages (from unstructured) (4.11.1)\nCollecting filetype\n  Downloading filetype-1.2.0-py2.py3-none-any.whl (19 kB)\nRequirement already satisfied: chardet in /databricks/python3/lib/python3.10/site-packages (from unstructured) (4.0.0)\nCollecting langdetect\n  Downloading langdetect-1.0.9.tar.gz (981 kB)\n     ━━━━━━━━━━━━━━━━━━━━━━━━━━━━━━━━━━━━━━ 981.5/981.5 kB 18.1 MB/s eta 0:00:00\n  Preparing metadata (setup.py): started\n  Preparing metadata (setup.py): finished with status 'done'\nCollecting backoff\n  Downloading backoff-2.2.1-py3-none-any.whl (15 kB)\nCollecting emoji\n  Downloading emoji-2.10.1-py2.py3-none-any.whl (421 kB)\n     ━━━━━━━━━━━━━━━━━━━━━━━━━━━━━━━━━━━━━━ 421.5/421.5 kB 15.2 MB/s eta 0:00:00\nRequirement already satisfied: nltk in /databricks/python3/lib/python3.10/site-packages (from unstructured) (3.7)\nRequirement already satisfied: lxml in /databricks/python3/lib/python3.10/site-packages (from unstructured) (4.9.1)\nCollecting unstructured-client>=0.15.1\n  Downloading unstructured_client-0.18.0-py3-none-any.whl (21 kB)\nRequirement already satisfied: wrapt in /databricks/python3/lib/python3.10/site-packages (from unstructured) (1.14.1)\nCollecting python-iso639\n  Downloading python_iso639-2024.2.7-py3-none-any.whl (274 kB)\n     ━━━━━━━━━━━━━━━━━━━━━━━━━━━━━━━━━━━━━━ 274.7/274.7 kB 12.3 MB/s eta 0:00:00\nRequirement already satisfied: numpy in /databricks/python3/lib/python3.10/site-packages (from unstructured) (1.23.5)\nCollecting python-magic\n  Downloading python_magic-0.4.27-py2.py3-none-any.whl (13 kB)\nCollecting rapidfuzz\n  Downloading rapidfuzz-3.6.1-cp310-cp310-manylinux_2_17_x86_64.manylinux2014_x86_64.whl (3.4 MB)\n     ━━━━━━━━━━━━━━━━━━━━━━━━━━━━━━━━━━━━━━━━ 3.4/3.4 MB 26.5 MB/s eta 0:00:00\nCollecting charset-normalizer>=3.2.0\n  Downloading charset_normalizer-3.3.2-cp310-cp310-manylinux_2_17_x86_64.manylinux2014_x86_64.whl (142 kB)\n     ━━━━━━━━━━━━━━━━━━━━━━━━━━━━━━━━━━━━━━ 142.1/142.1 kB 14.1 MB/s eta 0:00:00\nCollecting urllib3>=1.26.18\n  Downloading urllib3-2.2.1-py3-none-any.whl (121 kB)\n     ━━━━━━━━━━━━━━━━━━━━━━━━━━━━━━━━━━━━━━ 121.1/121.1 kB 13.8 MB/s eta 0:00:00\nCollecting mypy-extensions>=1.0.0\n  Downloading mypy_extensions-1.0.0-py3-none-any.whl (4.7 kB)\nCollecting jsonpath-python>=1.0.6\n  Downloading jsonpath_python-1.0.6-py3-none-any.whl (7.6 kB)\nRequirement already satisfied: six>=1.16.0 in /usr/lib/python3/dist-packages (from unstructured-client>=0.15.1->unstructured) (1.16.0)\nRequirement already satisfied: typing-inspect>=0.9.0 in /databricks/python3/lib/python3.10/site-packages (from unstructured-client>=0.15.1->unstructured) (0.9.0)\nCollecting requests\n  Downloading requests-2.31.0-py3-none-any.whl (62 kB)\n     ━━━━━━━━━━━━━━━━━━━━━━━━━━━━━━━━━━━━━━━━ 62.6/62.6 kB 6.4 MB/s eta 0:00:00\nCollecting dataclasses-json-speakeasy>=0.5.11\n  Downloading dataclasses_json_speakeasy-0.5.11-py3-none-any.whl (28 kB)\nRequirement already satisfied: marshmallow>=3.19.0 in /databricks/python3/lib/python3.10/site-packages (from unstructured-client>=0.15.1->unstructured) (3.20.2)\nRequirement already satisfied: packaging>=23.1 in /databricks/python3/lib/python3.10/site-packages (from unstructured-client>=0.15.1->unstructured) (23.2)\nRequirement already satisfied: idna>=3.4 in /databricks/python3/lib/python3.10/site-packages (from unstructured-client>=0.15.1->unstructured) (3.4)\nRequirement already satisfied: python-dateutil>=2.8.2 in /databricks/python3/lib/python3.10/site-packages (from unstructured-client>=0.15.1->unstructured) (2.8.2)\nCollecting certifi>=2023.7.22\n  Downloading certifi-2024.2.2-py3-none-any.whl (163 kB)\n     ━━━━━━━━━━━━━━━━━━━━━━━━━━━━━━━━━━━━━━ 163.8/163.8 kB 14.8 MB/s eta 0:00:00\nRequirement already satisfied: soupsieve>1.2 in /databricks/python3/lib/python3.10/site-packages (from beautifulsoup4->unstructured) (2.3.2.post1)\nRequirement already satisfied: joblib in /databricks/python3/lib/python3.10/site-packages (from nltk->unstructured) (1.2.0)\nRequirement already satisfied: tqdm in /databricks/python3/lib/python3.10/site-packages (from nltk->unstructured) (4.64.1)\nRequirement already satisfied: regex>=2021.8.3 in /databricks/python3/lib/python3.10/site-packages (from nltk->unstructured) (2022.7.9)\nRequirement already satisfied: click in /databricks/python3/lib/python3.10/site-packages (from nltk->unstructured) (8.0.4)\nBuilding wheels for collected packages: langdetect\n  Building wheel for langdetect (setup.py): started\n  Building wheel for langdetect (setup.py): finished with status 'done'\n  Created wheel for langdetect: filename=langdetect-1.0.9-py3-none-any.whl size=993225 sha256=fc70b39868bb0811c9b03572574bd724c6fd9e33bf7339ebe855997c6d623d4d\n  Stored in directory: /root/.cache/pip/wheels/c4/16/af/1889804d8b7c0c041cadee8e29673a938a332acbf2865c70a1\nSuccessfully built langdetect\nInstalling collected packages: filetype, urllib3, rapidfuzz, python-magic, python-iso639, mypy-extensions, langdetect, jsonpath-python, emoji, charset-normalizer, certifi, backoff, requests, dataclasses-json-speakeasy, unstructured-client, unstructured\n  Attempting uninstall: urllib3\n    Found existing installation: urllib3 1.26.14\n    Not uninstalling urllib3 at /databricks/python3/lib/python3.10/site-packages, outside environment /local_disk0/.ephemeral_nfs/envs/pythonEnv-35df65e6-1d01-4856-8b4d-bbb8de7a9460\n    Can't uninstall 'urllib3'. No files were found to uninstall.\n  Attempting uninstall: mypy-extensions\n    Found existing installation: mypy-extensions 0.4.3\n    Not uninstalling mypy-extensions at /databricks/python3/lib/python3.10/site-packages, outside environment /local_disk0/.ephemeral_nfs/envs/pythonEnv-35df65e6-1d01-4856-8b4d-bbb8de7a9460\n    Can't uninstall 'mypy-extensions'. No files were found to uninstall.\n  Attempting uninstall: charset-normalizer\n    Found existing installation: charset-normalizer 2.0.4\n    Not uninstalling charset-normalizer at /databricks/python3/lib/python3.10/site-packages, outside environment /local_disk0/.ephemeral_nfs/envs/pythonEnv-35df65e6-1d01-4856-8b4d-bbb8de7a9460\n    Can't uninstall 'charset-normalizer'. No files were found to uninstall.\n  Attempting uninstall: certifi\n    Found existing installation: certifi 2022.12.7\n    Not uninstalling certifi at /databricks/python3/lib/python3.10/site-packages, outside environment /local_disk0/.ephemeral_nfs/envs/pythonEnv-35df65e6-1d01-4856-8b4d-bbb8de7a9460\n    Can't uninstall 'certifi'. No files were found to uninstall.\n  Attempting uninstall: requests\n    Found existing installation: requests 2.28.1\n    Not uninstalling requests at /databricks/python3/lib/python3.10/site-packages, outside environment /local_disk0/.ephemeral_nfs/envs/pythonEnv-35df65e6-1d01-4856-8b4d-bbb8de7a9460\n    Can't uninstall 'requests'. No files were found to uninstall.\nERROR: pip's dependency resolver does not currently take into account all the packages that are installed. This behaviour is the source of the following dependency conflicts.\ndatabricks-feature-engineering 0.2.0 requires pyspark<4,>=3.1.2, which is not installed.\ngoogle-auth 2.21.0 requires urllib3<2.0, but you have urllib3 2.2.1 which is incompatible.\ndatabricks-sdk 0.1.6 requires requests<2.29.0,>=2.28.1, but you have requests 2.31.0 which is incompatible.\nbotocore 1.27.96 requires urllib3<1.27,>=1.25.4, but you have urllib3 2.2.1 which is incompatible.\nSuccessfully installed backoff-2.2.1 certifi-2024.2.2 charset-normalizer-3.3.2 dataclasses-json-speakeasy-0.5.11 emoji-2.10.1 filetype-1.2.0 jsonpath-python-1.0.6 langdetect-1.0.9 mypy-extensions-1.0.0 python-iso639-2024.2.7 python-magic-0.4.27 rapidfuzz-3.6.1 requests-2.31.0 unstructured-0.12.4 unstructured-client-0.18.0 urllib3-2.2.1\n\u001B[43mNote: you may need to restart the kernel using dbutils.library.restartPython() to use updated packages.\u001B[0m\n\u001B[43mNote: you may need to restart the kernel using dbutils.library.restartPython() to use updated packages.\u001B[0m\nRequirement already satisfied: unstructured[pptx] in /local_disk0/.ephemeral_nfs/envs/pythonEnv-35df65e6-1d01-4856-8b4d-bbb8de7a9460/lib/python3.10/site-packages (0.12.4)\nRequirement already satisfied: typing-extensions in /local_disk0/.ephemeral_nfs/envs/pythonEnv-35df65e6-1d01-4856-8b4d-bbb8de7a9460/lib/python3.10/site-packages (from unstructured[pptx]) (4.10.0)\nRequirement already satisfied: wrapt in /databricks/python3/lib/python3.10/site-packages (from unstructured[pptx]) (1.14.1)\nRequirement already satisfied: beautifulsoup4 in /databricks/python3/lib/python3.10/site-packages (from unstructured[pptx]) (4.11.1)\nRequirement already satisfied: unstructured-client>=0.15.1 in /local_disk0/.ephemeral_nfs/envs/pythonEnv-35df65e6-1d01-4856-8b4d-bbb8de7a9460/lib/python3.10/site-packages (from unstructured[pptx]) (0.18.0)\nRequirement already satisfied: chardet in /databricks/python3/lib/python3.10/site-packages (from unstructured[pptx]) (4.0.0)\nRequirement already satisfied: tabulate in /databricks/python3/lib/python3.10/site-packages (from unstructured[pptx]) (0.8.10)\nRequirement already satisfied: numpy in /databricks/python3/lib/python3.10/site-packages (from unstructured[pptx]) (1.23.5)\nRequirement already satisfied: requests in /local_disk0/.ephemeral_nfs/envs/pythonEnv-35df65e6-1d01-4856-8b4d-bbb8de7a9460/lib/python3.10/site-packages (from unstructured[pptx]) (2.31.0)\nRequirement already satisfied: emoji in /local_disk0/.ephemeral_nfs/envs/pythonEnv-35df65e6-1d01-4856-8b4d-bbb8de7a9460/lib/python3.10/site-packages (from unstructured[pptx]) (2.10.1)\nRequirement already satisfied: python-iso639 in /local_disk0/.ephemeral_nfs/envs/pythonEnv-35df65e6-1d01-4856-8b4d-bbb8de7a9460/lib/python3.10/site-packages (from unstructured[pptx]) (2024.2.7)\nRequirement already satisfied: python-magic in /local_disk0/.ephemeral_nfs/envs/pythonEnv-35df65e6-1d01-4856-8b4d-bbb8de7a9460/lib/python3.10/site-packages (from unstructured[pptx]) (0.4.27)\nRequirement already satisfied: nltk in /databricks/python3/lib/python3.10/site-packages (from unstructured[pptx]) (3.7)\nRequirement already satisfied: lxml in /databricks/python3/lib/python3.10/site-packages (from unstructured[pptx]) (4.9.1)\nRequirement already satisfied: dataclasses-json in /databricks/python3/lib/python3.10/site-packages (from unstructured[pptx]) (0.6.3)\nRequirement already satisfied: filetype in /local_disk0/.ephemeral_nfs/envs/pythonEnv-35df65e6-1d01-4856-8b4d-bbb8de7a9460/lib/python3.10/site-packages (from unstructured[pptx]) (1.2.0)\nRequirement already satisfied: rapidfuzz in /local_disk0/.ephemeral_nfs/envs/pythonEnv-35df65e6-1d01-4856-8b4d-bbb8de7a9460/lib/python3.10/site-packages (from unstructured[pptx]) (3.6.1)\nRequirement already satisfied: backoff in /local_disk0/.ephemeral_nfs/envs/pythonEnv-35df65e6-1d01-4856-8b4d-bbb8de7a9460/lib/python3.10/site-packages (from unstructured[pptx]) (2.2.1)\nRequirement already satisfied: langdetect in /local_disk0/.ephemeral_nfs/envs/pythonEnv-35df65e6-1d01-4856-8b4d-bbb8de7a9460/lib/python3.10/site-packages (from unstructured[pptx]) (1.0.9)\nCollecting python-pptx<=0.6.23\n  Downloading python_pptx-0.6.23-py3-none-any.whl (471 kB)\n     ━━━━━━━━━━━━━━━━━━━━━━━━━━━━━━━━━━━━━━━ 471.6/471.6 kB 8.0 MB/s eta 0:00:00\nCollecting XlsxWriter>=0.5.7\n  Downloading XlsxWriter-3.2.0-py3-none-any.whl (159 kB)\n     ━━━━━━━━━━━━━━━━━━━━━━━━━━━━━━━━━━━━━━━ 159.9/159.9 kB 4.6 MB/s eta 0:00:00\nRequirement already satisfied: Pillow>=3.3.2 in /databricks/python3/lib/python3.10/site-packages (from python-pptx<=0.6.23->unstructured[pptx]) (9.4.0)\nRequirement already satisfied: certifi>=2023.7.22 in /local_disk0/.ephemeral_nfs/envs/pythonEnv-35df65e6-1d01-4856-8b4d-bbb8de7a9460/lib/python3.10/site-packages (from unstructured-client>=0.15.1->unstructured[pptx]) (2024.2.2)\nRequirement already satisfied: dataclasses-json-speakeasy>=0.5.11 in /local_disk0/.ephemeral_nfs/envs/pythonEnv-35df65e6-1d01-4856-8b4d-bbb8de7a9460/lib/python3.10/site-packages (from unstructured-client>=0.15.1->unstructured[pptx]) (0.5.11)\nRequirement already satisfied: mypy-extensions>=1.0.0 in /local_disk0/.ephemeral_nfs/envs/pythonEnv-35df65e6-1d01-4856-8b4d-bbb8de7a9460/lib/python3.10/site-packages (from unstructured-client>=0.15.1->unstructured[pptx]) (1.0.0)\nRequirement already satisfied: idna>=3.4 in /databricks/python3/lib/python3.10/site-packages (from unstructured-client>=0.15.1->unstructured[pptx]) (3.4)\nRequirement already satisfied: jsonpath-python>=1.0.6 in /local_disk0/.ephemeral_nfs/envs/pythonEnv-35df65e6-1d01-4856-8b4d-bbb8de7a9460/lib/python3.10/site-packages (from unstructured-client>=0.15.1->unstructured[pptx]) (1.0.6)\nRequirement already satisfied: six>=1.16.0 in /usr/lib/python3/dist-packages (from unstructured-client>=0.15.1->unstructured[pptx]) (1.16.0)\nRequirement already satisfied: python-dateutil>=2.8.2 in /databricks/python3/lib/python3.10/site-packages (from unstructured-client>=0.15.1->unstructured[pptx]) (2.8.2)\nRequirement already satisfied: typing-inspect>=0.9.0 in /databricks/python3/lib/python3.10/site-packages (from unstructured-client>=0.15.1->unstructured[pptx]) (0.9.0)\nRequirement already satisfied: packaging>=23.1 in /databricks/python3/lib/python3.10/site-packages (from unstructured-client>=0.15.1->unstructured[pptx]) (23.2)\nRequirement already satisfied: urllib3>=1.26.18 in /local_disk0/.ephemeral_nfs/envs/pythonEnv-35df65e6-1d01-4856-8b4d-bbb8de7a9460/lib/python3.10/site-packages (from unstructured-client>=0.15.1->unstructured[pptx]) (2.2.1)\nRequirement already satisfied: charset-normalizer>=3.2.0 in /local_disk0/.ephemeral_nfs/envs/pythonEnv-35df65e6-1d01-4856-8b4d-bbb8de7a9460/lib/python3.10/site-packages (from unstructured-client>=0.15.1->unstructured[pptx]) (3.3.2)\nRequirement already satisfied: marshmallow>=3.19.0 in /databricks/python3/lib/python3.10/site-packages (from unstructured-client>=0.15.1->unstructured[pptx]) (3.20.2)\nRequirement already satisfied: soupsieve>1.2 in /databricks/python3/lib/python3.10/site-packages (from beautifulsoup4->unstructured[pptx]) (2.3.2.post1)\nRequirement already satisfied: click in /databricks/python3/lib/python3.10/site-packages (from nltk->unstructured[pptx]) (8.0.4)\nRequirement already satisfied: joblib in /databricks/python3/lib/python3.10/site-packages (from nltk->unstructured[pptx]) (1.2.0)\nRequirement already satisfied: regex>=2021.8.3 in /databricks/python3/lib/python3.10/site-packages (from nltk->unstructured[pptx]) (2022.7.9)\nRequirement already satisfied: tqdm in /databricks/python3/lib/python3.10/site-packages (from nltk->unstructured[pptx]) (4.64.1)\nInstalling collected packages: XlsxWriter, python-pptx\nSuccessfully installed XlsxWriter-3.2.0 python-pptx-0.6.23\n\u001B[43mNote: you may need to restart the kernel using dbutils.library.restartPython() to use updated packages.\u001B[0m\n\u001B[43mNote: you may need to restart the kernel using dbutils.library.restartPython() to use updated packages.\u001B[0m\n\u001B[43mNote: you may need to restart the kernel using dbutils.library.restartPython() to use updated packages.\u001B[0m\n\u001B[43mNote: you may need to restart the kernel using dbutils.library.restartPython() to use updated packages.\u001B[0m\nRequirement already satisfied: langchain-community in /local_disk0/.ephemeral_nfs/envs/pythonEnv-35df65e6-1d01-4856-8b4d-bbb8de7a9460/lib/python3.10/site-packages (0.0.20)\nRequirement already satisfied: PyYAML>=5.3 in /databricks/python3/lib/python3.10/site-packages (from langchain-community) (6.0)\nRequirement already satisfied: tenacity<9.0.0,>=8.1.0 in /databricks/python3/lib/python3.10/site-packages (from langchain-community) (8.1.0)\nRequirement already satisfied: numpy<2,>=1 in /databricks/python3/lib/python3.10/site-packages (from langchain-community) (1.23.5)\nRequirement already satisfied: requests<3,>=2 in /local_disk0/.ephemeral_nfs/envs/pythonEnv-35df65e6-1d01-4856-8b4d-bbb8de7a9460/lib/python3.10/site-packages (from langchain-community) (2.31.0)\nRequirement already satisfied: langchain-core<0.2,>=0.1.21 in /local_disk0/.ephemeral_nfs/envs/pythonEnv-35df65e6-1d01-4856-8b4d-bbb8de7a9460/lib/python3.10/site-packages (from langchain-community) (0.1.23)\nRequirement already satisfied: langsmith<0.1,>=0.0.83 in /local_disk0/.ephemeral_nfs/envs/pythonEnv-35df65e6-1d01-4856-8b4d-bbb8de7a9460/lib/python3.10/site-packages (from langchain-community) (0.0.87)\nRequirement already satisfied: dataclasses-json<0.7,>=0.5.7 in /databricks/python3/lib/python3.10/site-packages (from langchain-community) (0.6.3)\nRequirement already satisfied: aiohttp<4.0.0,>=3.8.3 in /databricks/python3/lib/python3.10/site-packages (from langchain-community) (3.9.1)\nRequirement already satisfied: SQLAlchemy<3,>=1.4 in /databricks/python3/lib/python3.10/site-packages (from langchain-community) (1.4.39)\nRequirement already satisfied: frozenlist>=1.1.1 in /databricks/python3/lib/python3.10/site-packages (from aiohttp<4.0.0,>=3.8.3->langchain-community) (1.4.1)\nRequirement already satisfied: async-timeout<5.0,>=4.0 in /databricks/python3/lib/python3.10/site-packages (from aiohttp<4.0.0,>=3.8.3->langchain-community) (4.0.3)\nRequirement already satisfied: attrs>=17.3.0 in /databricks/python3/lib/python3.10/site-packages (from aiohttp<4.0.0,>=3.8.3->langchain-community) (22.1.0)\nRequirement already satisfied: yarl<2.0,>=1.0 in /databricks/python3/lib/python3.10/site-packages (from aiohttp<4.0.0,>=3.8.3->langchain-community) (1.9.4)\nRequirement already satisfied: multidict<7.0,>=4.5 in /databricks/python3/lib/python3.10/site-packages (from aiohttp<4.0.0,>=3.8.3->langchain-community) (6.0.4)\nRequirement already satisfied: aiosignal>=1.1.2 in /databricks/python3/lib/python3.10/site-packages (from aiohttp<4.0.0,>=3.8.3->langchain-community) (1.3.1)\nRequirement already satisfied: marshmallow<4.0.0,>=3.18.0 in /databricks/python3/lib/python3.10/site-packages (from dataclasses-json<0.7,>=0.5.7->langchain-community) (3.20.2)\nRequirement already satisfied: typing-inspect<1,>=0.4.0 in /databricks/python3/lib/python3.10/site-packages (from dataclasses-json<0.7,>=0.5.7->langchain-community) (0.9.0)\nRequirement already satisfied: anyio<5,>=3 in /databricks/python3/lib/python3.10/site-packages (from langchain-core<0.2,>=0.1.21->langchain-community) (3.5.0)\nRequirement already satisfied: pydantic<3,>=1 in /databricks/python3/lib/python3.10/site-packages (from langchain-core<0.2,>=0.1.21->langchain-community) (1.10.6)\nRequirement already satisfied: jsonpatch<2.0,>=1.33 in /databricks/python3/lib/python3.10/site-packages (from langchain-core<0.2,>=0.1.21->langchain-community) (1.33)\nRequirement already satisfied: packaging<24.0,>=23.2 in /databricks/python3/lib/python3.10/site-packages (from langchain-core<0.2,>=0.1.21->langchain-community) (23.2)\nRequirement already satisfied: certifi>=2017.4.17 in /local_disk0/.ephemeral_nfs/envs/pythonEnv-35df65e6-1d01-4856-8b4d-bbb8de7a9460/lib/python3.10/site-packages (from requests<3,>=2->langchain-community) (2024.2.2)\nRequirement already satisfied: idna<4,>=2.5 in /databricks/python3/lib/python3.10/site-packages (from requests<3,>=2->langchain-community) (3.4)\nRequirement already satisfied: charset-normalizer<4,>=2 in /local_disk0/.ephemeral_nfs/envs/pythonEnv-35df65e6-1d01-4856-8b4d-bbb8de7a9460/lib/python3.10/site-packages (from requests<3,>=2->langchain-community) (3.3.2)\nRequirement already satisfied: urllib3<3,>=1.21.1 in /local_disk0/.ephemeral_nfs/envs/pythonEnv-35df65e6-1d01-4856-8b4d-bbb8de7a9460/lib/python3.10/site-packages (from requests<3,>=2->langchain-community) (2.2.1)\nRequirement already satisfied: greenlet!=0.4.17 in /databricks/python3/lib/python3.10/site-packages (from SQLAlchemy<3,>=1.4->langchain-community) (2.0.1)\nRequirement already satisfied: sniffio>=1.1 in /databricks/python3/lib/python3.10/site-packages (from anyio<5,>=3->langchain-core<0.2,>=0.1.21->langchain-community) (1.2.0)\nRequirement already satisfied: jsonpointer>=1.9 in /databricks/python3/lib/python3.10/site-packages (from jsonpatch<2.0,>=1.33->langchain-core<0.2,>=0.1.21->langchain-community) (2.4)\nRequirement already satisfied: typing-extensions>=4.2.0 in /local_disk0/.ephemeral_nfs/envs/pythonEnv-35df65e6-1d01-4856-8b4d-bbb8de7a9460/lib/python3.10/site-packages (from pydantic<3,>=1->langchain-core<0.2,>=0.1.21->langchain-community) (4.10.0)\nRequirement already satisfied: mypy-extensions>=0.3.0 in /local_disk0/.ephemeral_nfs/envs/pythonEnv-35df65e6-1d01-4856-8b4d-bbb8de7a9460/lib/python3.10/site-packages (from typing-inspect<1,>=0.4.0->dataclasses-json<0.7,>=0.5.7->langchain-community) (1.0.0)\n\u001B[43mNote: you may need to restart the kernel using dbutils.library.restartPython() to use updated packages.\u001B[0m\n\u001B[43mNote: you may need to restart the kernel using dbutils.library.restartPython() to use updated packages.\u001B[0m\nRequirement already satisfied: pip in /local_disk0/.ephemeral_nfs/envs/pythonEnv-35df65e6-1d01-4856-8b4d-bbb8de7a9460/lib/python3.10/site-packages (22.3.1)\nCollecting pip\n  Downloading pip-24.0-py3-none-any.whl (2.1 MB)\n     ━━━━━━━━━━━━━━━━━━━━━━━━━━━━━━━━━━━━━━━━ 2.1/2.1 MB 12.7 MB/s eta 0:00:00\nInstalling collected packages: pip\n  Attempting uninstall: pip\n    Found existing installation: pip 22.3.1\n    Uninstalling pip-22.3.1:\n      Successfully uninstalled pip-22.3.1\nSuccessfully installed pip-24.0\n\u001B[43mNote: you may need to restart the kernel using dbutils.library.restartPython() to use updated packages.\u001B[0m\n\u001B[43mNote: you may need to restart the kernel using dbutils.library.restartPython() to use updated packages.\u001B[0m\nRequirement already satisfied: requests in /local_disk0/.ephemeral_nfs/envs/pythonEnv-35df65e6-1d01-4856-8b4d-bbb8de7a9460/lib/python3.10/site-packages (2.31.0)\nCollecting urllib3<2\n  Downloading urllib3-1.26.18-py2.py3-none-any.whl.metadata (48 kB)\n\u001B[?25l     \u001B[90m━━━━━━━━━━━━━━━━━━━━━━━━━━━━━━━━━━━━━━━━\u001B[0m \u001B[32m0.0/48.9 kB\u001B[0m \u001B[31m?\u001B[0m eta \u001B[36m-:--:--\u001B[0m\n\u001B[2K     \u001B[90m━━━━━━━━━━━━━━━━━━━━━━━━━━━━━━━━━━━━━━━━\u001B[0m \u001B[32m48.9/48.9 kB\u001B[0m \u001B[31m1.5 MB/s\u001B[0m eta \u001B[36m0:00:00\u001B[0m\n\u001B[?25hRequirement already satisfied: charset-normalizer<4,>=2 in /local_disk0/.ephemeral_nfs/envs/pythonEnv-35df65e6-1d01-4856-8b4d-bbb8de7a9460/lib/python3.10/site-packages (from requests) (3.3.2)\nRequirement already satisfied: idna<4,>=2.5 in /databricks/python3/lib/python3.10/site-packages (from requests) (3.4)\nRequirement already satisfied: certifi>=2017.4.17 in /local_disk0/.ephemeral_nfs/envs/pythonEnv-35df65e6-1d01-4856-8b4d-bbb8de7a9460/lib/python3.10/site-packages (from requests) (2024.2.2)\nDownloading urllib3-1.26.18-py2.py3-none-any.whl (143 kB)\n\u001B[?25l   \u001B[90m━━━━━━━━━━━━━━━━━━━━━━━━━━━━━━━━━━━━━━━━\u001B[0m \u001B[32m0.0/143.8 kB\u001B[0m \u001B[31m?\u001B[0m eta \u001B[36m-:--:--\u001B[0m\n\u001B[2K   \u001B[90m━━━━━━━━━━━━━━━━━━━━━━━━━━━━━━━━━━━━━━━━\u001B[0m \u001B[32m143.8/143.8 kB\u001B[0m \u001B[31m4.5 MB/s\u001B[0m eta \u001B[36m0:00:00\u001B[0m\n\u001B[?25hInstalling collected packages: urllib3\n  Attempting uninstall: urllib3\n    Found existing installation: urllib3 2.2.1\n    Uninstalling urllib3-2.2.1:\n      Successfully uninstalled urllib3-2.2.1\n\u001B[31mERROR: pip's dependency resolver does not currently take into account all the packages that are installed. This behaviour is the source of the following dependency conflicts.\ndatabricks-feature-engineering 0.2.0 requires pyspark<4,>=3.1.2, which is not installed.\ndatabricks-sdk 0.1.6 requires requests<2.29.0,>=2.28.1, but you have requests 2.31.0 which is incompatible.\u001B[0m\u001B[31m\n\u001B[0mSuccessfully installed urllib3-1.26.18\n\u001B[43mNote: you may need to restart the kernel using dbutils.library.restartPython() to use updated packages.\u001B[0m\n"
     ]
    }
   ],
   "source": [
    "!pip install langchain==0.0.354\n",
    "!pip install openai==1.3.6\n",
    "!pip install PyPDF2 \n",
    "!pip install faiss-cpu==1.7.4\n",
    "!pip install tiktoken\n",
    "!pip install pypdf panel notebook\n",
    "!pip install unstructured\n",
    "!pip install \"unstructured[pptx]\"\n",
    "!pip install --upgrade --quiet  \"unstructured[all-docs]\"\n",
    "!pip install langchain-community\n",
    "!pip install --upgrade pip\n",
    "!pip install requests \"urllib3<2\" "
   ]
  },
  {
   "cell_type": "code",
   "execution_count": 0,
   "metadata": {
    "application/vnd.databricks.v1+cell": {
     "cellMetadata": {
      "byteLimit": 2048000,
      "rowLimit": 10000
     },
     "inputWidgets": {},
     "nuid": "1de5d05b-6cae-4488-81eb-1df40c38edd7",
     "showTitle": false,
     "title": ""
    }
   },
   "outputs": [],
   "source": [
    "#Restart Python for the installation to take place as suggested by Databricks\n",
    "dbutils.library.restartPython()"
   ]
  },
  {
   "cell_type": "markdown",
   "metadata": {
    "application/vnd.databricks.v1+cell": {
     "cellMetadata": {
      "byteLimit": 2048000,
      "rowLimit": 10000
     },
     "inputWidgets": {},
     "nuid": "9966df52-1ac6-46a9-9fd4-3f3a928412f1",
     "showTitle": false,
     "title": ""
    }
   },
   "source": [
    "## Import libraries and environment variables"
   ]
  },
  {
   "cell_type": "code",
   "execution_count": 0,
   "metadata": {
    "application/vnd.databricks.v1+cell": {
     "cellMetadata": {
      "byteLimit": 2048000,
      "rowLimit": 10000
     },
     "inputWidgets": {},
     "nuid": "ad219fd2-39c7-452e-9989-2f02a54b6a2d",
     "showTitle": false,
     "title": ""
    }
   },
   "outputs": [],
   "source": [
    "import os\n",
    "import openai\n",
    "from pathlib import Path\n",
    "from langchain.llms import OpenAI\n",
    "from langchain.prompts import PromptTemplate\n",
    "#from langchain.chains import RetrievalQA\n",
    "from langchain.document_loaders import TextLoader\n",
    "from langchain.document_loaders import PyPDFLoader\n",
    "#from langchain.indexes import VectorstoreIndexCreator\n",
    "from langchain.text_splitter import CharacterTextSplitter\n",
    "from langchain.text_splitter import RecursiveCharacterTextSplitter\n",
    "from langchain.embeddings import OpenAIEmbeddings\n",
    "import panel as pn\n",
    "from PyPDF2 import PdfReader\n",
    "from langchain.document_loaders import PyPDFLoader\n",
    "from langchain.document_loaders import DirectoryLoader\n",
    "from langchain.vectorstores import  FAISS\n",
    "from langchain.embeddings.azure_openai import AzureOpenAIEmbeddings"
   ]
  },
  {
   "cell_type": "code",
   "execution_count": 0,
   "metadata": {
    "application/vnd.databricks.v1+cell": {
     "cellMetadata": {
      "byteLimit": 2048000,
      "rowLimit": 10000
     },
     "inputWidgets": {},
     "nuid": "651ac4dc-fcb0-44db-a7d7-eea9f28f946f",
     "showTitle": false,
     "title": ""
    }
   },
   "outputs": [],
   "source": [
    "#Get the environment variables\n",
    "os.environ[\"OPENAI_API_TYPE\"] = \"Azure\"\n",
    "os.environ[\"OPENAI_API_VERSION\"] = dbutils.secrets.get(\"Secret-Scope\", key = \"azure-openai-api-version\")\n",
    "os.environ[\"OPENAI_API_BASE\"] = dbutils.secrets.get(\"Secret-Scope\", key = \"azure-openai-api-base\")\n",
    "os.environ[\"OPENAI_API_KEY\"] = dbutils.secrets.get(\"Secret-Scope\", key = \"open-api-key\")\n",
    "deployment_embed_name= dbutils.secrets.get(\"Secret-Scope\", key = \"azure-embedding-openai-deployment-name\")\n",
    "embed_model_name= dbutils.secrets.get(\"Secret-Scope\", key = \"azure-embedding-openai-model-name\")\n",
    "openai_api_base= dbutils.secrets.get(\"Secret-Scope\", key = \"azure-openai-api-base\")"
   ]
  },
  {
   "cell_type": "markdown",
   "metadata": {
    "application/vnd.databricks.v1+cell": {
     "cellMetadata": {
      "byteLimit": 2048000,
      "rowLimit": 10000
     },
     "inputWidgets": {},
     "nuid": "5f5b5e4b-65ac-4b7a-8519-e6572fcafc22",
     "showTitle": false,
     "title": ""
    }
   },
   "source": [
    "## Document Loading"
   ]
  },
  {
   "cell_type": "code",
   "execution_count": 0,
   "metadata": {
    "application/vnd.databricks.v1+cell": {
     "cellMetadata": {
      "byteLimit": 2048000,
      "rowLimit": 10000
     },
     "inputWidgets": {},
     "nuid": "420b7eb1-c4d9-452b-9060-8b743dda7bfc",
     "showTitle": false,
     "title": ""
    }
   },
   "outputs": [],
   "source": [
    "#Directory loader way\n",
    "from langchain_community.document_loaders.directory import DirectoryLoader\n",
    "loader = DirectoryLoader('/dbfs/FileStore/ViiV',show_progress=True)"
   ]
  },
  {
   "cell_type": "markdown",
   "metadata": {
    "application/vnd.databricks.v1+cell": {
     "cellMetadata": {
      "byteLimit": 2048000,
      "rowLimit": 10000
     },
     "inputWidgets": {},
     "nuid": "c2395ce8-a6a7-4d37-b6fe-5b39f7224a62",
     "showTitle": false,
     "title": ""
    }
   },
   "source": [
    "## Document Pre-processing/Chunking"
   ]
  },
  {
   "cell_type": "code",
   "execution_count": 0,
   "metadata": {
    "application/vnd.databricks.v1+cell": {
     "cellMetadata": {
      "byteLimit": 2048000,
      "rowLimit": 10000
     },
     "inputWidgets": {},
     "nuid": "e41d9a1d-70bd-4fd3-a8ee-69934693b6d3",
     "showTitle": false,
     "title": ""
    }
   },
   "outputs": [
    {
     "output_type": "stream",
     "name": "stderr",
     "output_type": "stream",
     "text": [
      "/local_disk0/.ephemeral_nfs/envs/pythonEnv-35df65e6-1d01-4856-8b4d-bbb8de7a9460/lib/python3.10/site-packages/langchain_core/_api/deprecation.py:117: LangChainDeprecationWarning: The class `langchain_community.embeddings.azure_openai.AzureOpenAIEmbeddings` was deprecated in langchain-community 0.1.0 and will be removed in 0.2.0. An updated version of the class exists in the langchain-openai package and should be used instead. To use it run `pip install -U langchain-openai` and import as `from langchain_openai import AzureOpenAIEmbeddings`.\n  warn_deprecated(\n/local_disk0/.ephemeral_nfs/envs/pythonEnv-35df65e6-1d01-4856-8b4d-bbb8de7a9460/lib/python3.10/site-packages/langchain_community/embeddings/azure_openai.py:112: UserWarning: As of openai>=1.0.0, Azure endpoints should be specified via the `azure_endpoint` param not `openai_api_base` (or alias `base_url`). Updating `openai_api_base` from [REDACTED] to [REDACTED]/openai.\n  warnings.warn(\n/local_disk0/.ephemeral_nfs/envs/pythonEnv-35df65e6-1d01-4856-8b4d-bbb8de7a9460/lib/python3.10/site-packages/langchain_community/embeddings/azure_openai.py:119: UserWarning: As of openai>=1.0.0, if `deployment` (or alias `azure_deployment`) is specified then `openai_api_base` (or alias `base_url`) should not be. Instead use `deployment` (or alias `azure_deployment`) and `azure_endpoint`.\n  warnings.warn(\n/local_disk0/.ephemeral_nfs/envs/pythonEnv-35df65e6-1d01-4856-8b4d-bbb8de7a9460/lib/python3.10/site-packages/langchain_community/embeddings/azure_openai.py:127: UserWarning: As of openai>=1.0.0, if `openai_api_base` (or alias `base_url`) is specified it is expected to be of the form https://example-resource.azure.openai.com/openai/deployments/example-deployment. Updating [REDACTED] to [REDACTED]/openai.\n  warnings.warn(\n"
     ]
    }
   ],
   "source": [
    "embeddings =AzureOpenAIEmbeddings(deployment=deployment_embed_name, model=embed_model_name, openai_api_base=openai_api_base,openai_api_type=\"azure\", chunk_size=1)\n",
    "text_splitter = RecursiveCharacterTextSplitter(\n",
    "        chunk_size=1000,\n",
    "        chunk_overlap=200,\n",
    "        length_function=len,\n",
    "    )\n",
    "#engine is replacement of deployment as we move from langchain 0.0.200-->0.0.317"
   ]
  },
  {
   "cell_type": "code",
   "execution_count": 0,
   "metadata": {
    "application/vnd.databricks.v1+cell": {
     "cellMetadata": {
      "byteLimit": 2048000,
      "rowLimit": 10000
     },
     "inputWidgets": {},
     "nuid": "705be902-b73f-4b7e-a4f5-b3eb13f578f7",
     "showTitle": false,
     "title": ""
    }
   },
   "outputs": [
    {
     "output_type": "stream",
     "name": "stderr",
     "output_type": "stream",
     "text": [
      "\r  0%|          | 0/75 [00:00<?, ?it/s][nltk_data] Downloading package punkt to /root/nltk_data...\n[nltk_data]   Unzipping tokenizers/punkt.zip.\n[nltk_data] Downloading package averaged_perceptron_tagger to\n[nltk_data]     /root/nltk_data...\n[nltk_data]   Unzipping taggers/averaged_perceptron_tagger.zip.\n\r  1%|▏         | 1/75 [00:13<16:16, 13.20s/it]\r  3%|▎         | 2/75 [00:13<07:09,  5.88s/it]\r  4%|▍         | 3/75 [00:15<04:25,  3.68s/it]\r  5%|▌         | 4/75 [00:17<03:38,  3.07s/it]\r  7%|▋         | 5/75 [00:20<03:50,  3.29s/it]\r  8%|▊         | 6/75 [00:23<03:35,  3.13s/it]\r  9%|▉         | 7/75 [00:26<03:36,  3.19s/it]\r 11%|█         | 8/75 [00:30<03:30,  3.14s/it]\r 12%|█▏        | 9/75 [00:34<03:51,  3.51s/it]\r 13%|█▎        | 10/75 [00:38<03:51,  3.56s/it]\r 15%|█▍        | 11/75 [00:41<03:39,  3.43s/it]\r 16%|█▌        | 12/75 [00:43<03:16,  3.11s/it]\r 17%|█▋        | 13/75 [00:47<03:26,  3.34s/it]\r 19%|█▊        | 14/75 [00:50<03:11,  3.14s/it]\r 20%|██        | 15/75 [00:52<03:02,  3.05s/it]\r 21%|██▏       | 16/75 [00:56<03:03,  3.12s/it]\r 23%|██▎       | 17/75 [00:57<02:35,  2.68s/it]\r 24%|██▍       | 18/75 [00:58<01:54,  2.01s/it]\r 25%|██▌       | 19/75 [01:00<01:50,  1.97s/it]\r 27%|██▋       | 20/75 [01:02<01:54,  2.07s/it]\r 28%|██▊       | 21/75 [01:03<01:41,  1.88s/it]\r 29%|██▉       | 22/75 [01:05<01:40,  1.90s/it]\r 31%|███       | 23/75 [01:07<01:28,  1.71s/it]\r 32%|███▏      | 24/75 [01:08<01:16,  1.50s/it]\r 33%|███▎      | 25/75 [01:09<01:08,  1.37s/it]\r 35%|███▍      | 26/75 [01:10<01:02,  1.28s/it]\r 36%|███▌      | 27/75 [01:12<01:10,  1.46s/it]\r 37%|███▋      | 28/75 [01:12<00:53,  1.13s/it]\r 39%|███▊      | 29/75 [01:13<00:47,  1.02s/it]\r 40%|████      | 30/75 [01:14<00:45,  1.02s/it]\r 41%|████▏     | 31/75 [01:14<00:39,  1.11it/s]\r 43%|████▎     | 32/75 [01:15<00:38,  1.11it/s]\r 44%|████▍     | 33/75 [01:18<01:06,  1.58s/it]\r 45%|████▌     | 34/75 [01:20<01:08,  1.66s/it]\r 47%|████▋     | 35/75 [01:26<01:50,  2.76s/it]\r 48%|████▊     | 36/75 [01:26<01:20,  2.07s/it]\r 49%|████▉     | 37/75 [01:27<00:59,  1.58s/it]\r 51%|█████     | 38/75 [01:27<00:46,  1.25s/it]\r 52%|█████▏    | 39/75 [01:29<00:48,  1.35s/it]\r 53%|█████▎    | 40/75 [01:31<00:56,  1.63s/it]\r 55%|█████▍    | 41/75 [01:32<00:46,  1.37s/it]\r 56%|█████▌    | 42/75 [01:33<00:44,  1.33s/it]\r 57%|█████▋    | 43/75 [01:35<00:45,  1.42s/it]\r 59%|█████▊    | 44/75 [01:36<00:43,  1.41s/it]\r 60%|██████    | 45/75 [01:37<00:41,  1.40s/it]\r 61%|██████▏   | 46/75 [01:39<00:46,  1.59s/it]\r 63%|██████▎   | 47/75 [01:40<00:40,  1.46s/it]\r 64%|██████▍   | 48/75 [01:42<00:41,  1.53s/it]\r 65%|██████▌   | 49/75 [01:59<02:42,  6.24s/it]\r 67%|██████▋   | 50/75 [02:19<04:17, 10.29s/it]\r 68%|██████▊   | 51/75 [02:20<03:00,  7.54s/it]\r 69%|██████▉   | 52/75 [02:21<02:03,  5.37s/it]\r 71%|███████   | 53/75 [02:21<01:28,  4.02s/it]\r 72%|███████▏  | 54/75 [02:22<01:02,  2.96s/it]\r 73%|███████▎  | 55/75 [02:25<00:59,  2.98s/it]\r 75%|███████▍  | 56/75 [02:25<00:41,  2.21s/it]\r 76%|███████▌  | 57/75 [02:26<00:30,  1.67s/it]\r 77%|███████▋  | 58/75 [02:26<00:21,  1.29s/it]\r 79%|███████▊  | 59/75 [02:27<00:19,  1.20s/it]\r 80%|████████  | 60/75 [02:28<00:18,  1.21s/it]\r 81%|████████▏ | 61/75 [02:31<00:21,  1.53s/it]\r 83%|████████▎ | 62/75 [02:33<00:21,  1.67s/it]\r 84%|████████▍ | 63/75 [02:34<00:17,  1.44s/it]\r 85%|████████▌ | 64/75 [02:34<00:13,  1.27s/it]\r 87%|████████▋ | 65/75 [02:36<00:14,  1.48s/it]\r 88%|████████▊ | 66/75 [02:38<00:12,  1.43s/it]\r 89%|████████▉ | 67/75 [02:39<00:11,  1.42s/it]\r 91%|█████████ | 68/75 [02:40<00:08,  1.20s/it]\r 92%|█████████▏| 69/75 [02:42<00:08,  1.48s/it]\r 93%|█████████▎| 70/75 [02:46<00:11,  2.39s/it]\r 95%|█████████▍| 71/75 [02:47<00:07,  1.94s/it]\r 96%|█████████▌| 72/75 [02:49<00:05,  1.74s/it]\r 97%|█████████▋| 73/75 [02:52<00:04,  2.36s/it]\r 99%|█████████▊| 74/75 [02:56<00:02,  2.74s/it]\r100%|██████████| 75/75 [03:01<00:00,  3.52s/it]\r100%|██████████| 75/75 [03:01<00:00,  2.43s/it]\n"
     ]
    }
   ],
   "source": [
    "try:\n",
    "  ppt = loader.load()\n",
    "  texts = text_splitter.split_documents(ppt)\n",
    "  docsearch =FAISS.from_documents(\n",
    "  texts, embeddings\n",
    "  )\n",
    "except FileNotFoundError:\n",
    "    print('File does not exist.')\n"
   ]
  },
  {
   "cell_type": "code",
   "execution_count": 0,
   "metadata": {
    "application/vnd.databricks.v1+cell": {
     "cellMetadata": {
      "byteLimit": 2048000,
      "rowLimit": 10000
     },
     "inputWidgets": {},
     "nuid": "5443ba1c-6900-4eab-8ace-08eb84ffe9f4",
     "showTitle": false,
     "title": ""
    }
   },
   "outputs": [],
   "source": [
    "# #individual file way\n",
    "# from langchain_community.document_loaders import UnstructuredFileLoader\n",
    "# loader = UnstructuredFileLoader(\"/dbfs/FileStore/ViiV/ViiV_Apretude_Non_Adopter_Executive_Summary_vF.pptx\", mode=\"elements\")"
   ]
  },
  {
   "cell_type": "code",
   "execution_count": 0,
   "metadata": {
    "application/vnd.databricks.v1+cell": {
     "cellMetadata": {
      "byteLimit": 2048000,
      "rowLimit": 10000
     },
     "inputWidgets": {},
     "nuid": "8c23e3d7-022b-4453-9adb-fec830215fa5",
     "showTitle": false,
     "title": ""
    }
   },
   "outputs": [],
   "source": [
    "# docs = loader.load()\n",
    "# docs[:5]"
   ]
  },
  {
   "cell_type": "markdown",
   "metadata": {
    "application/vnd.databricks.v1+cell": {
     "cellMetadata": {
      "byteLimit": 2048000,
      "rowLimit": 10000
     },
     "inputWidgets": {},
     "nuid": "098f5c60-f100-45be-8074-6ae364ebe6fb",
     "showTitle": false,
     "title": ""
    }
   },
   "source": [
    "## Creating Vectorstore"
   ]
  },
  {
   "cell_type": "code",
   "execution_count": 0,
   "metadata": {
    "application/vnd.databricks.v1+cell": {
     "cellMetadata": {
      "byteLimit": 2048000,
      "rowLimit": 10000
     },
     "inputWidgets": {},
     "nuid": "f05c408f-d9c4-4613-a71b-37aaa99ea166",
     "showTitle": false,
     "title": ""
    }
   },
   "outputs": [],
   "source": [
    "docsearch.save_local(\"/dbfs/FileStore/Rakesh/Vectorstore8\")"
   ]
  },
  {
   "cell_type": "code",
   "execution_count": 0,
   "metadata": {
    "application/vnd.databricks.v1+cell": {
     "cellMetadata": {
      "byteLimit": 2048000,
      "rowLimit": 10000
     },
     "inputWidgets": {},
     "nuid": "75e32303-6ef2-4587-8d0f-58127fd7b7ac",
     "showTitle": false,
     "title": ""
    }
   },
   "outputs": [
    {
     "output_type": "stream",
     "name": "stdout",
     "output_type": "stream",
     "text": [
      "Package                        Version\n------------------------------ -------------\nabsl-py                        1.0.0\naccelerate                     0.25.0\naiohttp                        3.9.1\naiosignal                      1.3.1\nantlr4-python3-runtime         4.9.3\nanyio                          3.5.0\nappdirs                        1.4.4\nargon2-cffi                    21.3.0\nargon2-cffi-bindings           21.2.0\nastor                          0.8.1\nasttokens                      2.0.5\nastunparse                     1.6.3\nasync-timeout                  4.0.3\nattrs                          22.1.0\naudioread                      3.0.1\nazure-core                     1.29.1\nazure-cosmos                   4.3.1\nazure-storage-blob             12.19.0\nazure-storage-file-datalake    12.14.0\nbackcall                       0.2.0\nbackoff                        2.2.1\nbcrypt                         3.2.0\nbeautifulsoup4                 4.11.1\nblack                          22.6.0\nbleach                         4.1.0\nblinker                        1.4\nblis                           0.7.11\nbokeh                          3.3.4\nboto3                          1.24.28\nbotocore                       1.27.96\ncachetools                     5.3.2\ncatalogue                      2.0.10\ncategory-encoders              2.6.3\ncertifi                        2024.2.2\ncffi                           1.15.1\nchardet                        4.0.0\ncharset-normalizer             3.3.2\nclick                          8.0.4\ncloudpathlib                   0.16.0\ncloudpickle                    2.0.0\ncmdstanpy                      1.2.0\ncoloredlogs                    15.0.1\ncomm                           0.1.2\nconfection                     0.1.4\nconfigparser                   5.2.0\ncontourpy                      1.0.5\ncryptography                   39.0.1\ncycler                         0.11.0\ncymem                          2.0.8\nCython                         0.29.32\ndacite                         1.8.1\ndatabricks-automl-runtime      0.2.20\ndatabricks-cli                 0.18.0\ndatabricks-feature-engineering 0.2.0\ndatabricks-sdk                 0.1.6\ndataclasses-json               0.6.3\ndataclasses-json-speakeasy     0.5.11\ndatasets                       2.15.0\ndbl-tempo                      0.1.26\ndbus-python                    1.2.18\ndebugpy                        1.6.7\ndecorator                      5.1.1\ndeepspeed                      0.12.4\ndefusedxml                     0.7.1\nDeprecated                     1.2.14\ndill                           0.3.6\ndiskcache                      5.6.3\ndistlib                        0.3.7\ndistro                         1.7.0\ndistro-info                    1.1+ubuntu0.2\ndocstring-to-markdown          0.11\neffdet                         0.4.1\nemoji                          2.10.1\nentrypoints                    0.4\net-xmlfile                     1.1.0\nevaluate                       0.4.1\nexecuting                      0.8.3\nfacets-overview                1.1.1\nfaiss-cpu                      1.7.4\nfastjsonschema                 2.19.1\nfasttext                       0.9.2\nfilelock                       3.9.0\nfiletype                       1.2.0\nFlask                          2.2.5\nflatbuffers                    23.5.26\nfonttools                      4.25.0\nfrozenlist                     1.4.1\nfsspec                         2023.6.0\nfuture                         0.18.3\ngast                           0.4.0\ngitdb                          4.0.11\nGitPython                      3.1.27\ngoogle-api-core                2.15.0\ngoogle-auth                    2.21.0\ngoogle-auth-oauthlib           1.0.0\ngoogle-cloud-core              2.4.1\ngoogle-cloud-storage           2.11.0\ngoogle-crc32c                  1.5.0\ngoogle-pasta                   0.2.0\ngoogle-resumable-media         2.7.0\ngoogleapis-common-protos       1.62.0\ngreenlet                       2.0.1\ngrpcio                         1.48.2\ngrpcio-status                  1.48.1\ngunicorn                       20.1.0\ngviz-api                       1.10.0\nh11                            0.14.0\nh5py                           3.7.0\nhjson                          3.1.0\nholidays                       0.38\nhorovod                        0.28.1\nhtmlmin                        0.1.12\nhttpcore                       1.0.4\nhttplib2                       0.20.2\nhttpx                          0.27.0\nhuggingface-hub                0.19.4\nhumanfriendly                  10.0\nidna                           3.4\nImageHash                      4.3.1\nimbalanced-learn               0.11.0\nimportlib-metadata             4.11.3\nimportlib-resources            6.1.1\niopath                         0.1.10\nipykernel                      6.25.0\nipython                        8.14.0\nipython-genutils               0.2.0\nipywidgets                     7.7.2\nisodate                        0.6.1\nitsdangerous                   2.0.1\njedi                           0.18.1\njeepney                        0.7.1\nJinja2                         3.1.2\njmespath                       0.10.0\njoblib                         1.2.0\njoblibspark                    0.5.1\njsonpatch                      1.33\njsonpath-python                1.0.6\njsonpointer                    2.4\njsonschema                     4.17.3\njupyter-client                 7.3.4\njupyter_core                   5.2.0\njupyter-server                 1.23.4\njupyterlab-pygments            0.1.2\njupyterlab-widgets             1.0.0\nkeras                          2.14.0\nkeyring                        23.5.0\nkiwisolver                     1.4.4\nlangchain                      0.0.354\nlangchain-community            0.0.20\nlangchain-core                 0.1.23\nlangcodes                      3.3.0\nlangdetect                     1.0.9\nlangsmith                      0.0.87\nlaunchpadlib                   1.10.16\nlayoutparser                   0.3.4\nlazr.restfulclient             0.14.4\nlazr.uri                       1.0.6\nlazy_loader                    0.3\nlibclang                       15.0.6.1\nlibrosa                        0.10.1\nlightgbm                       4.1.0\nlinkify-it-py                  2.0.3\nllvmlite                       0.39.1\nlxml                           4.9.1\nMako                           1.2.0\nMarkdown                       3.4.1\nmarkdown-it-py                 3.0.0\nMarkupSafe                     2.1.1\nmarshmallow                    3.20.2\nmatplotlib                     3.7.0\nmatplotlib-inline              0.1.6\nmccabe                         0.7.0\nmdit-py-plugins                0.4.0\nmdurl                          0.1.2\nmistune                        0.8.4\nml-dtypes                      0.2.0\nmlflow-skinny                  2.9.2\nmore-itertools                 8.10.0\nmpmath                         1.2.1\nmsg-parser                     1.2.0\nmsgpack                        1.0.7\nmultidict                      6.0.4\nmultimethod                    1.10\nmultiprocess                   0.70.14\nmurmurhash                     1.0.10\nmypy-extensions                1.0.0\nnbclassic                      0.5.2\nnbclient                       0.5.13\nnbconvert                      6.5.4\nnbformat                       5.7.0\nnest-asyncio                   1.5.6\nnetworkx                       2.8.4\nninja                          1.11.1.1\nnltk                           3.7\nnodeenv                        1.8.0\nnotebook                       6.5.2\nnotebook_shim                  0.2.2\nnumba                          0.56.4\nnumpy                          1.23.5\noauthlib                       3.2.0\nolefile                        0.47\nomegaconf                      2.3.0\nonnx                           1.15.0\nonnxruntime                    1.15.1\nopenai                         1.3.6\nopencv-python                  4.9.0.80\nopenpyxl                       3.1.2\nopt-einsum                     3.3.0\npackaging                      23.2\npandas                         1.5.3\npandocfilters                  1.5.0\npanel                          1.3.8\nparam                          2.0.2\nparamiko                       2.9.2\nparso                          0.8.3\npathspec                       0.10.3\npatsy                          0.5.3\npdf2image                      1.17.0\npdfminer.six                   20221105\npdfplumber                     0.10.4\npetastorm                      0.12.1\npexpect                        4.8.0\nphik                           0.12.4\npickleshare                    0.7.5\npikepdf                        8.13.0\npillow                         10.2.0\npillow_heif                    0.15.0\npip                            24.0\nplatformdirs                   2.5.2\nplotly                         5.9.0\npluggy                         1.0.0\npmdarima                       2.0.4\npooch                          1.4.0\nportalocker                    2.8.2\npreshed                        3.0.9\nprometheus-client              0.14.1\nprompt-toolkit                 3.0.36\nprophet                        1.1.5\nprotobuf                       4.24.0\npsutil                         5.9.0\npsycopg2                       2.9.3\nptyprocess                     0.7.0\npure-eval                      0.2.2\npy-cpuinfo                     9.0.0\npyarrow                        8.0.0\npyarrow-hotfix                 0.5\npyasn1                         0.4.8\npyasn1-modules                 0.2.8\npybind11                       2.11.1\npycocotools                    2.0.7\npycparser                      2.21\npydantic                       1.10.6\npyflakes                       3.1.0\nPygments                       2.11.2\nPyGObject                      3.42.1\nPyJWT                          2.3.0\nPyNaCl                         1.5.0\npynvml                         11.5.0\npyodbc                         4.0.32\npypandoc                       1.13\npyparsing                      3.0.9\npypdf                          4.0.2\nPyPDF2                         3.0.1\npypdfium2                      4.27.0\npyright                        1.1.294\npyrsistent                     0.18.0\npytesseract                    0.3.10\npython-apt                     2.4.0+ubuntu2\npython-dateutil                2.8.2\npython-docx                    1.1.0\npython-editor                  1.0.4\npython-iso639                  2024.2.7\npython-lsp-jsonrpc             1.1.1\npython-lsp-server              1.8.0\npython-magic                   0.4.27\npython-multipart               0.0.9\npython-pptx                    0.6.23\npytoolconfig                   1.2.5\npytz                           2022.7\npyviz_comms                    3.0.1\nPyWavelets                     1.4.1\nPyYAML                         6.0\npyzmq                          23.2.0\nrapidfuzz                      3.6.1\nregex                          2022.7.9\nrequests                       2.31.0\nrequests-oauthlib              1.3.1\nresponses                      0.18.0\nrope                           1.7.0\nrsa                            4.9\ns3transfer                     0.6.2\nsafetensors                    0.4.1\nscikit-learn                   1.1.1\nscipy                          1.10.0\nseaborn                        0.12.2\nSecretStorage                  3.3.1\nSend2Trash                     1.8.0\nsentence-transformers          2.2.2\nsentencepiece                  0.1.99\nsetuptools                     65.6.3\nshap                           0.44.0\nsimplejson                     3.17.6\nsix                            1.16.0\nslicer                         0.0.7\nsmart-open                     5.2.1\nsmmap                          5.0.0\nsniffio                        1.2.0\nsoundfile                      0.12.1\nsoupsieve                      2.3.2.post1\nsoxr                           0.3.7\nspacy                          3.7.2\nspacy-legacy                   3.0.12\nspacy-loggers                  1.0.5\nspark-tensorflow-distributor   1.0.0\nSQLAlchemy                     1.4.39\nsqlparse                       0.4.2\nsrsly                          2.4.8\nssh-import-id                  5.11\nstack-data                     0.2.0\nstanio                         0.3.0\nstatsmodels                    0.13.5\nsympy                          1.11.1\ntabulate                       0.8.10\ntangled-up-in-unicode          0.2.0\ntenacity                       8.1.0\ntensorboard                    2.14.1\ntensorboard-data-server        0.7.2\ntensorboard-plugin-profile     2.14.0\ntensorflow-cpu                 2.14.1\ntensorflow-estimator           2.14.0\ntensorflow-io-gcs-filesystem   0.35.0\ntermcolor                      2.4.0\nterminado                      0.17.1\nthinc                          8.2.2\nthreadpoolctl                  2.2.0\ntiktoken                       0.5.2\ntimm                           0.9.16\ntinycss2                       1.2.1\ntokenize-rt                    4.2.1\ntokenizers                     0.15.0\ntomli                          2.0.1\ntorch                          2.0.1+cpu\ntorchvision                    0.15.2+cpu\ntornado                        6.1\ntqdm                           4.64.1\ntraitlets                      5.7.1\ntransformers                   4.36.1\ntypeguard                      2.13.3\ntyper                          0.9.0\ntyping_extensions              4.9.0\ntyping-inspect                 0.9.0\nuc-micro-py                    1.0.3\nujson                          5.4.0\nunattended-upgrades            0.1\nunstructured                   0.12.4\nunstructured-client            0.18.0\nunstructured-inference         0.7.23\nunstructured.pytesseract       0.3.12\nurllib3                        1.26.18\nvirtualenv                     20.16.7\nvisions                        0.7.5\nwadllib                        1.3.6\nwasabi                         1.1.2\nwcwidth                        0.2.5\nweasel                         0.3.4\nwebencodings                   0.5.1\nwebsocket-client               0.58.0\nWerkzeug                       2.2.2\nwhatthepatch                   1.0.2\nwheel                          0.38.4\nwidgetsnbextension             3.6.1\nwordcloud                      1.9.3\nwrapt                          1.14.1\nxgboost                        1.7.6\nxlrd                           2.0.1\nXlsxWriter                     3.2.0\nxxhash                         3.4.1\nxyzservices                    2023.10.1\nyapf                           0.33.0\nyarl                           1.9.4\nydata-profiling                4.2.0\nzipp                           3.11.0\n"
     ]
    }
   ],
   "source": [
    "pip list"
   ]
  }
 ],
 "metadata": {
  "application/vnd.databricks.v1+notebook": {
   "dashboards": [],
   "language": "python",
   "notebookMetadata": {
    "pythonIndentUnit": 2
   },
   "notebookName": "Create_Embedding_alldocs",
   "widgets": {}
  }
 },
 "nbformat": 4,
 "nbformat_minor": 0
}
